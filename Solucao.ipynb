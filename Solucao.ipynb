{
 "cells": [
  {
   "cell_type": "code",
   "execution_count": 2,
   "metadata": {},
   "outputs": [],
   "source": [
    "import numpy as np\n",
    "import pandas as pd\n",
    "import matplotlib.pyplot as plt\n",
    "\n",
    "#Preprocessing imports\n",
    "from sklearn import preprocessing\n",
    "from sklearn.model_selection import train_test_split\n",
    "\n",
    "#Regression Models imports\n",
    "from sklearn.ensemble import BaggingRegressor\n",
    "from sklearn.tree import DecisionTreeRegressor\n",
    "import keras.backend as K\n",
    "from keras import models\n",
    "from keras import layers\n",
    "import xgboost as xgb"
   ]
  },
  {
   "cell_type": "markdown",
   "metadata": {},
   "source": [
    "## Leitura do Dataset"
   ]
  },
  {
   "cell_type": "code",
   "execution_count": 4,
   "metadata": {},
   "outputs": [],
   "source": [
    "def read_data():\n",
    "    \n",
    "    data = pd.DataFrame()\n",
    "    for m in range(1,13):\n",
    "        file = \"Dados/DadosBO_2019_\"+str(m)+\"(ROUBO DE VEÍCULOS).csv\"\n",
    "        aux = pd.read_csv(file)\n",
    "        data = pd.concat([data, aux], sort=True)\n",
    "    \n",
    "    data.index = range(data.shape[0])\n",
    "    \n",
    "    data[\"OCORRENCIA\"] = data[\"DATAOCORRENCIA\"] +\" \"+ data[\"HORAOCORRENCIA\"]\n",
    "    \n",
    "    return data.loc[:,[\"NUMERO_BOLETIM\",\"OCORRENCIA\",\"CIDADE\",\"BAIRRO\"]]"
   ]
  },
  {
   "cell_type": "code",
   "execution_count": 5,
   "metadata": {},
   "outputs": [
    {
     "data": {
      "text/html": [
       "<div>\n",
       "<style scoped>\n",
       "    .dataframe tbody tr th:only-of-type {\n",
       "        vertical-align: middle;\n",
       "    }\n",
       "\n",
       "    .dataframe tbody tr th {\n",
       "        vertical-align: top;\n",
       "    }\n",
       "\n",
       "    .dataframe thead th {\n",
       "        text-align: right;\n",
       "    }\n",
       "</style>\n",
       "<table border=\"1\" class=\"dataframe\">\n",
       "  <thead>\n",
       "    <tr style=\"text-align: right;\">\n",
       "      <th></th>\n",
       "      <th>NUMERO_BOLETIM</th>\n",
       "      <th>OCORRENCIA</th>\n",
       "      <th>CIDADE</th>\n",
       "      <th>BAIRRO</th>\n",
       "    </tr>\n",
       "  </thead>\n",
       "  <tbody>\n",
       "    <tr>\n",
       "      <th>0</th>\n",
       "      <td>4590/2018</td>\n",
       "      <td>31/12/2018 22:30</td>\n",
       "      <td>POA</td>\n",
       "      <td>JD COPACABANA</td>\n",
       "    </tr>\n",
       "    <tr>\n",
       "      <th>1</th>\n",
       "      <td>8741/2018</td>\n",
       "      <td>31/12/2018 23:30</td>\n",
       "      <td>S.PAULO</td>\n",
       "      <td>VILA CURUCA</td>\n",
       "    </tr>\n",
       "    <tr>\n",
       "      <th>2</th>\n",
       "      <td>3396/2018</td>\n",
       "      <td>31/12/2018 22:00</td>\n",
       "      <td>HORTOLANDIA</td>\n",
       "      <td>JARDIM AMANDA</td>\n",
       "    </tr>\n",
       "    <tr>\n",
       "      <th>3</th>\n",
       "      <td>5767/2018</td>\n",
       "      <td>31/12/2018 23:20</td>\n",
       "      <td>S.PAULO</td>\n",
       "      <td>GUAIANASES</td>\n",
       "    </tr>\n",
       "    <tr>\n",
       "      <th>4</th>\n",
       "      <td>12332/2018</td>\n",
       "      <td>31/12/2018 22:45</td>\n",
       "      <td>CAMPINAS</td>\n",
       "      <td>VILA RUY NOVAES</td>\n",
       "    </tr>\n",
       "  </tbody>\n",
       "</table>\n",
       "</div>"
      ],
      "text/plain": [
       "  NUMERO_BOLETIM        OCORRENCIA       CIDADE           BAIRRO\n",
       "0      4590/2018  31/12/2018 22:30          POA    JD COPACABANA\n",
       "1      8741/2018  31/12/2018 23:30      S.PAULO      VILA CURUCA\n",
       "2      3396/2018  31/12/2018 22:00  HORTOLANDIA    JARDIM AMANDA\n",
       "3      5767/2018  31/12/2018 23:20      S.PAULO       GUAIANASES\n",
       "4     12332/2018  31/12/2018 22:45     CAMPINAS  VILA RUY NOVAES"
      ]
     },
     "execution_count": 5,
     "metadata": {},
     "output_type": "execute_result"
    }
   ],
   "source": [
    "data = read_data()\n",
    "data.head()"
   ]
  },
  {
   "cell_type": "markdown",
   "metadata": {},
   "source": [
    "## Pré-Processamento do Dados"
   ]
  },
  {
   "cell_type": "markdown",
   "metadata": {},
   "source": [
    "#### removendo dados duplicados e valores faltantes"
   ]
  },
  {
   "cell_type": "code",
   "execution_count": 6,
   "metadata": {},
   "outputs": [
    {
     "data": {
      "text/plain": [
       "17161"
      ]
     },
     "execution_count": 6,
     "metadata": {},
     "output_type": "execute_result"
    }
   ],
   "source": [
    "data = data.dropna()\n",
    "data = data.drop_duplicates([\"NUMERO_BOLETIM\"])\n",
    "data.shape[0]"
   ]
  },
  {
   "cell_type": "markdown",
   "metadata": {},
   "source": [
    "#### criando novas features"
   ]
  },
  {
   "cell_type": "code",
   "execution_count": 8,
   "metadata": {},
   "outputs": [],
   "source": [
    "data[\"OCORRENCIA\"] = data.OCORRENCIA.apply(lambda x: x[:6]+\"2018\"+x[10:])"
   ]
  },
  {
   "cell_type": "code",
   "execution_count": 9,
   "metadata": {},
   "outputs": [
    {
     "data": {
      "text/html": [
       "<div>\n",
       "<style scoped>\n",
       "    .dataframe tbody tr th:only-of-type {\n",
       "        vertical-align: middle;\n",
       "    }\n",
       "\n",
       "    .dataframe tbody tr th {\n",
       "        vertical-align: top;\n",
       "    }\n",
       "\n",
       "    .dataframe thead th {\n",
       "        text-align: right;\n",
       "    }\n",
       "</style>\n",
       "<table border=\"1\" class=\"dataframe\">\n",
       "  <thead>\n",
       "    <tr style=\"text-align: right;\">\n",
       "      <th></th>\n",
       "      <th>NUMERO_BOLETIM</th>\n",
       "      <th>OCORRENCIA</th>\n",
       "      <th>CIDADE</th>\n",
       "      <th>BAIRRO</th>\n",
       "    </tr>\n",
       "  </thead>\n",
       "  <tbody>\n",
       "    <tr>\n",
       "      <th>0</th>\n",
       "      <td>4590/2018</td>\n",
       "      <td>2018-12-31 22:30:00</td>\n",
       "      <td>POA</td>\n",
       "      <td>JD COPACABANA</td>\n",
       "    </tr>\n",
       "    <tr>\n",
       "      <th>1</th>\n",
       "      <td>8741/2018</td>\n",
       "      <td>2018-12-31 23:30:00</td>\n",
       "      <td>S.PAULO</td>\n",
       "      <td>VILA CURUCA</td>\n",
       "    </tr>\n",
       "    <tr>\n",
       "      <th>2</th>\n",
       "      <td>3396/2018</td>\n",
       "      <td>2018-12-31 22:00:00</td>\n",
       "      <td>HORTOLANDIA</td>\n",
       "      <td>JARDIM AMANDA</td>\n",
       "    </tr>\n",
       "    <tr>\n",
       "      <th>3</th>\n",
       "      <td>5767/2018</td>\n",
       "      <td>2018-12-31 23:20:00</td>\n",
       "      <td>S.PAULO</td>\n",
       "      <td>GUAIANASES</td>\n",
       "    </tr>\n",
       "    <tr>\n",
       "      <th>4</th>\n",
       "      <td>12332/2018</td>\n",
       "      <td>2018-12-31 22:45:00</td>\n",
       "      <td>CAMPINAS</td>\n",
       "      <td>VILA RUY NOVAES</td>\n",
       "    </tr>\n",
       "  </tbody>\n",
       "</table>\n",
       "</div>"
      ],
      "text/plain": [
       "  NUMERO_BOLETIM          OCORRENCIA       CIDADE           BAIRRO\n",
       "0      4590/2018 2018-12-31 22:30:00          POA    JD COPACABANA\n",
       "1      8741/2018 2018-12-31 23:30:00      S.PAULO      VILA CURUCA\n",
       "2      3396/2018 2018-12-31 22:00:00  HORTOLANDIA    JARDIM AMANDA\n",
       "3      5767/2018 2018-12-31 23:20:00      S.PAULO       GUAIANASES\n",
       "4     12332/2018 2018-12-31 22:45:00     CAMPINAS  VILA RUY NOVAES"
      ]
     },
     "execution_count": 9,
     "metadata": {},
     "output_type": "execute_result"
    }
   ],
   "source": [
    "data[\"OCORRENCIA\"] = pd.to_datetime(data[\"OCORRENCIA\"], dayfirst=True, format=\"%d/%m/%Y %H:%M\")\n",
    "data.head()"
   ]
  },
  {
   "cell_type": "code",
   "execution_count": 10,
   "metadata": {},
   "outputs": [],
   "source": [
    "data[\"DIA_SEMANA\"] = data[\"OCORRENCIA\"].dt.day_name()\n",
    "data[\"HORA\"] = [ d.time().hour + (d.time().minute/60) + (d.time().second/60*60) for d in data[\"OCORRENCIA\"]]"
   ]
  },
  {
   "cell_type": "code",
   "execution_count": 11,
   "metadata": {},
   "outputs": [
    {
     "data": {
      "text/html": [
       "<div>\n",
       "<style scoped>\n",
       "    .dataframe tbody tr th:only-of-type {\n",
       "        vertical-align: middle;\n",
       "    }\n",
       "\n",
       "    .dataframe tbody tr th {\n",
       "        vertical-align: top;\n",
       "    }\n",
       "\n",
       "    .dataframe thead th {\n",
       "        text-align: right;\n",
       "    }\n",
       "</style>\n",
       "<table border=\"1\" class=\"dataframe\">\n",
       "  <thead>\n",
       "    <tr style=\"text-align: right;\">\n",
       "      <th></th>\n",
       "      <th>NUMERO_BOLETIM</th>\n",
       "      <th>OCORRENCIA</th>\n",
       "      <th>CIDADE</th>\n",
       "      <th>BAIRRO</th>\n",
       "      <th>DIA_SEMANA</th>\n",
       "      <th>HORA</th>\n",
       "    </tr>\n",
       "  </thead>\n",
       "  <tbody>\n",
       "    <tr>\n",
       "      <th>0</th>\n",
       "      <td>4590/2018</td>\n",
       "      <td>2018-12-31 22:30:00</td>\n",
       "      <td>POA</td>\n",
       "      <td>JD COPACABANA</td>\n",
       "      <td>Monday</td>\n",
       "      <td>22.500000</td>\n",
       "    </tr>\n",
       "    <tr>\n",
       "      <th>1</th>\n",
       "      <td>8741/2018</td>\n",
       "      <td>2018-12-31 23:30:00</td>\n",
       "      <td>S.PAULO</td>\n",
       "      <td>VILA CURUCA</td>\n",
       "      <td>Monday</td>\n",
       "      <td>23.500000</td>\n",
       "    </tr>\n",
       "    <tr>\n",
       "      <th>2</th>\n",
       "      <td>3396/2018</td>\n",
       "      <td>2018-12-31 22:00:00</td>\n",
       "      <td>HORTOLANDIA</td>\n",
       "      <td>JARDIM AMANDA</td>\n",
       "      <td>Monday</td>\n",
       "      <td>22.000000</td>\n",
       "    </tr>\n",
       "    <tr>\n",
       "      <th>3</th>\n",
       "      <td>5767/2018</td>\n",
       "      <td>2018-12-31 23:20:00</td>\n",
       "      <td>S.PAULO</td>\n",
       "      <td>GUAIANASES</td>\n",
       "      <td>Monday</td>\n",
       "      <td>23.333333</td>\n",
       "    </tr>\n",
       "    <tr>\n",
       "      <th>4</th>\n",
       "      <td>12332/2018</td>\n",
       "      <td>2018-12-31 22:45:00</td>\n",
       "      <td>CAMPINAS</td>\n",
       "      <td>VILA RUY NOVAES</td>\n",
       "      <td>Monday</td>\n",
       "      <td>22.750000</td>\n",
       "    </tr>\n",
       "  </tbody>\n",
       "</table>\n",
       "</div>"
      ],
      "text/plain": [
       "  NUMERO_BOLETIM          OCORRENCIA       CIDADE           BAIRRO DIA_SEMANA  \\\n",
       "0      4590/2018 2018-12-31 22:30:00          POA    JD COPACABANA     Monday   \n",
       "1      8741/2018 2018-12-31 23:30:00      S.PAULO      VILA CURUCA     Monday   \n",
       "2      3396/2018 2018-12-31 22:00:00  HORTOLANDIA    JARDIM AMANDA     Monday   \n",
       "3      5767/2018 2018-12-31 23:20:00      S.PAULO       GUAIANASES     Monday   \n",
       "4     12332/2018 2018-12-31 22:45:00     CAMPINAS  VILA RUY NOVAES     Monday   \n",
       "\n",
       "        HORA  \n",
       "0  22.500000  \n",
       "1  23.500000  \n",
       "2  22.000000  \n",
       "3  23.333333  \n",
       "4  22.750000  "
      ]
     },
     "execution_count": 11,
     "metadata": {},
     "output_type": "execute_result"
    }
   ],
   "source": [
    "data.head()"
   ]
  },
  {
   "cell_type": "markdown",
   "metadata": {},
   "source": [
    "#### definindo a target feature"
   ]
  },
  {
   "cell_type": "code",
   "execution_count": 12,
   "metadata": {},
   "outputs": [],
   "source": [
    "def label_y( x ):\n",
    "    mask1 = (data['CIDADE']==x[0]) & (data['BAIRRO']==x[1]) & (data[\"DIA_SEMANA\"]==x[2]) \n",
    "    mask2 = (data[\"HORA\"] >= x[3]) & (data[\"HORA\"]<=x[3]+1)\n",
    "    y = len(data[mask1 & mask2])-1\n",
    "    return y"
   ]
  },
  {
   "cell_type": "code",
   "execution_count": 13,
   "metadata": {},
   "outputs": [],
   "source": [
    "data[\"Y\"] = [ label_y(x) for x in data[[\"CIDADE\",\"BAIRRO\",\"DIA_SEMANA\",\"HORA\"]].values ]"
   ]
  },
  {
   "cell_type": "code",
   "execution_count": 14,
   "metadata": {},
   "outputs": [
    {
     "data": {
      "text/html": [
       "<div>\n",
       "<style scoped>\n",
       "    .dataframe tbody tr th:only-of-type {\n",
       "        vertical-align: middle;\n",
       "    }\n",
       "\n",
       "    .dataframe tbody tr th {\n",
       "        vertical-align: top;\n",
       "    }\n",
       "\n",
       "    .dataframe thead th {\n",
       "        text-align: right;\n",
       "    }\n",
       "</style>\n",
       "<table border=\"1\" class=\"dataframe\">\n",
       "  <thead>\n",
       "    <tr style=\"text-align: right;\">\n",
       "      <th></th>\n",
       "      <th>NUMERO_BOLETIM</th>\n",
       "      <th>OCORRENCIA</th>\n",
       "      <th>CIDADE</th>\n",
       "      <th>BAIRRO</th>\n",
       "      <th>DIA_SEMANA</th>\n",
       "      <th>HORA</th>\n",
       "      <th>Y</th>\n",
       "    </tr>\n",
       "  </thead>\n",
       "  <tbody>\n",
       "    <tr>\n",
       "      <th>0</th>\n",
       "      <td>4590/2018</td>\n",
       "      <td>2018-12-31 22:30:00</td>\n",
       "      <td>POA</td>\n",
       "      <td>JD COPACABANA</td>\n",
       "      <td>Monday</td>\n",
       "      <td>22.500000</td>\n",
       "      <td>0</td>\n",
       "    </tr>\n",
       "    <tr>\n",
       "      <th>1</th>\n",
       "      <td>8741/2018</td>\n",
       "      <td>2018-12-31 23:30:00</td>\n",
       "      <td>S.PAULO</td>\n",
       "      <td>VILA CURUCA</td>\n",
       "      <td>Monday</td>\n",
       "      <td>23.500000</td>\n",
       "      <td>0</td>\n",
       "    </tr>\n",
       "    <tr>\n",
       "      <th>2</th>\n",
       "      <td>3396/2018</td>\n",
       "      <td>2018-12-31 22:00:00</td>\n",
       "      <td>HORTOLANDIA</td>\n",
       "      <td>JARDIM AMANDA</td>\n",
       "      <td>Monday</td>\n",
       "      <td>22.000000</td>\n",
       "      <td>0</td>\n",
       "    </tr>\n",
       "    <tr>\n",
       "      <th>3</th>\n",
       "      <td>5767/2018</td>\n",
       "      <td>2018-12-31 23:20:00</td>\n",
       "      <td>S.PAULO</td>\n",
       "      <td>GUAIANASES</td>\n",
       "      <td>Monday</td>\n",
       "      <td>23.333333</td>\n",
       "      <td>0</td>\n",
       "    </tr>\n",
       "    <tr>\n",
       "      <th>4</th>\n",
       "      <td>12332/2018</td>\n",
       "      <td>2018-12-31 22:45:00</td>\n",
       "      <td>CAMPINAS</td>\n",
       "      <td>VILA RUY NOVAES</td>\n",
       "      <td>Monday</td>\n",
       "      <td>22.750000</td>\n",
       "      <td>0</td>\n",
       "    </tr>\n",
       "  </tbody>\n",
       "</table>\n",
       "</div>"
      ],
      "text/plain": [
       "  NUMERO_BOLETIM          OCORRENCIA       CIDADE           BAIRRO DIA_SEMANA  \\\n",
       "0      4590/2018 2018-12-31 22:30:00          POA    JD COPACABANA     Monday   \n",
       "1      8741/2018 2018-12-31 23:30:00      S.PAULO      VILA CURUCA     Monday   \n",
       "2      3396/2018 2018-12-31 22:00:00  HORTOLANDIA    JARDIM AMANDA     Monday   \n",
       "3      5767/2018 2018-12-31 23:20:00      S.PAULO       GUAIANASES     Monday   \n",
       "4     12332/2018 2018-12-31 22:45:00     CAMPINAS  VILA RUY NOVAES     Monday   \n",
       "\n",
       "        HORA  Y  \n",
       "0  22.500000  0  \n",
       "1  23.500000  0  \n",
       "2  22.000000  0  \n",
       "3  23.333333  0  \n",
       "4  22.750000  0  "
      ]
     },
     "execution_count": 14,
     "metadata": {},
     "output_type": "execute_result"
    }
   ],
   "source": [
    "data.head()"
   ]
  },
  {
   "cell_type": "markdown",
   "metadata": {},
   "source": [
    "#### tratamento de dados categoricos e normalização"
   ]
  },
  {
   "cell_type": "code",
   "execution_count": 15,
   "metadata": {},
   "outputs": [],
   "source": [
    "data2 = data.loc[:,[\"CIDADE\",\"BAIRRO\",\"DIA_SEMANA\",\"HORA\",\"Y\"]]\n",
    "\n",
    "encoder = preprocessing.LabelEncoder()\n",
    "\n",
    "data2[\"CIDADE\"] = encoder.fit_transform(data[\"CIDADE\"])\n",
    "data2[\"BAIRRO\"] = encoder.fit_transform(data[\"BAIRRO\"])\n",
    "data2[\"DIA_SEMANA\"] = encoder.fit_transform(data[\"DIA_SEMANA\"])\n",
    "\n",
    "scaler = preprocessing.StandardScaler()\n",
    "\n",
    "data2[data2.columns] = scaler.fit_transform(data2)"
   ]
  },
  {
   "cell_type": "code",
   "execution_count": 16,
   "metadata": {},
   "outputs": [
    {
     "data": {
      "text/html": [
       "<div>\n",
       "<style scoped>\n",
       "    .dataframe tbody tr th:only-of-type {\n",
       "        vertical-align: middle;\n",
       "    }\n",
       "\n",
       "    .dataframe tbody tr th {\n",
       "        vertical-align: top;\n",
       "    }\n",
       "\n",
       "    .dataframe thead th {\n",
       "        text-align: right;\n",
       "    }\n",
       "</style>\n",
       "<table border=\"1\" class=\"dataframe\">\n",
       "  <thead>\n",
       "    <tr style=\"text-align: right;\">\n",
       "      <th></th>\n",
       "      <th>CIDADE</th>\n",
       "      <th>BAIRRO</th>\n",
       "      <th>DIA_SEMANA</th>\n",
       "      <th>HORA</th>\n",
       "      <th>Y</th>\n",
       "    </tr>\n",
       "  </thead>\n",
       "  <tbody>\n",
       "    <tr>\n",
       "      <th>0</th>\n",
       "      <td>-0.050299</td>\n",
       "      <td>0.046160</td>\n",
       "      <td>-0.945473</td>\n",
       "      <td>0.995559</td>\n",
       "      <td>-0.587972</td>\n",
       "    </tr>\n",
       "    <tr>\n",
       "      <th>1</th>\n",
       "      <td>0.602894</td>\n",
       "      <td>1.246283</td>\n",
       "      <td>-0.945473</td>\n",
       "      <td>1.139441</td>\n",
       "      <td>-0.587972</td>\n",
       "    </tr>\n",
       "    <tr>\n",
       "      <th>2</th>\n",
       "      <td>-1.356685</td>\n",
       "      <td>-0.783060</td>\n",
       "      <td>-0.945473</td>\n",
       "      <td>0.923618</td>\n",
       "      <td>-0.587972</td>\n",
       "    </tr>\n",
       "    <tr>\n",
       "      <th>3</th>\n",
       "      <td>0.602894</td>\n",
       "      <td>-0.896457</td>\n",
       "      <td>-0.945473</td>\n",
       "      <td>1.115461</td>\n",
       "      <td>-0.587972</td>\n",
       "    </tr>\n",
       "    <tr>\n",
       "      <th>4</th>\n",
       "      <td>-2.140516</td>\n",
       "      <td>1.591201</td>\n",
       "      <td>-0.945473</td>\n",
       "      <td>1.031529</td>\n",
       "      <td>-0.587972</td>\n",
       "    </tr>\n",
       "  </tbody>\n",
       "</table>\n",
       "</div>"
      ],
      "text/plain": [
       "     CIDADE    BAIRRO  DIA_SEMANA      HORA         Y\n",
       "0 -0.050299  0.046160   -0.945473  0.995559 -0.587972\n",
       "1  0.602894  1.246283   -0.945473  1.139441 -0.587972\n",
       "2 -1.356685 -0.783060   -0.945473  0.923618 -0.587972\n",
       "3  0.602894 -0.896457   -0.945473  1.115461 -0.587972\n",
       "4 -2.140516  1.591201   -0.945473  1.031529 -0.587972"
      ]
     },
     "execution_count": 16,
     "metadata": {},
     "output_type": "execute_result"
    }
   ],
   "source": [
    "data2.head()"
   ]
  },
  {
   "cell_type": "markdown",
   "metadata": {},
   "source": [
    "## Separação dos Dados em Treino e Teste"
   ]
  },
  {
   "cell_type": "code",
   "execution_count": 185,
   "metadata": {},
   "outputs": [],
   "source": [
    "X = data2.loc[:,[\"CIDADE\",\"BAIRRO\",\"DIA_SEMANA\",\"HORA\"]]\n",
    "y = data2[\"Y\"].values"
   ]
  },
  {
   "cell_type": "code",
   "execution_count": 186,
   "metadata": {},
   "outputs": [],
   "source": [
    "X_train, X_test, y_train, y_test = train_test_split(X, y, test_size=0.2, stratify=y, random_state=42)"
   ]
  },
  {
   "cell_type": "markdown",
   "metadata": {},
   "source": [
    "## Modelos de Regressão"
   ]
  },
  {
   "cell_type": "code",
   "execution_count": 187,
   "metadata": {},
   "outputs": [],
   "source": [
    "def RMSE( y_true, y_predict ):\n",
    "    n = y_true.shape[0]\n",
    "    return np.sqrt(np.sum( np.power(y_true-y_predict,2) ) / n)\n",
    "\n",
    "rmse_models = {}"
   ]
  },
  {
   "cell_type": "markdown",
   "metadata": {},
   "source": [
    "### BaggingRegressor"
   ]
  },
  {
   "cell_type": "code",
   "execution_count": 188,
   "metadata": {},
   "outputs": [
    {
     "data": {
      "image/png": "[encoded data removed]",
      "text/plain": [
       "<Figure size 432x288 with 1 Axes>"
      ]
     },
     "metadata": {
      "needs_background": "light"
     },
     "output_type": "display_data"
    }
   ],
   "source": [
    "rmse_ = []\n",
    "\n",
    "for d in range(1,30):\n",
    "    dt = DecisionTreeRegressor(random_state=42, max_depth = d)\n",
    "    bc = BaggingRegressor(base_estimator=dt, n_estimators=10, random_state=42)\n",
    "    bc.fit(X_train, y_train)\n",
    "    y_pred = bc.predict(X_test)\n",
    "    rmse_.append(RMSE(y_test,y_pred))\n",
    "\n",
    "plt.plot( range(1,30), rmse_)\n",
    "plt.xlabel(\"Depht\")\n",
    "plt.ylabel(\"RMSE\")\n",
    "plt.show()"
   ]
  },
  {
   "cell_type": "code",
   "execution_count": 189,
   "metadata": {},
   "outputs": [
    {
     "data": {
      "image/png": "[encoded data removed]",
      "text/plain": [
       "<Figure size 432x288 with 1 Axes>"
      ]
     },
     "metadata": {
      "needs_background": "light"
     },
     "output_type": "display_data"
    }
   ],
   "source": [
    "rmse_ = []\n",
    "\n",
    "for e in range(1,30):\n",
    "    dt = DecisionTreeRegressor(random_state=42, max_depth = 15)\n",
    "    bc = BaggingRegressor(base_estimator=dt, n_estimators=e, random_state=42)\n",
    "    bc.fit(X_train, y_train)\n",
    "    y_pred = bc.predict(X_test)\n",
    "    rmse_.append(RMSE(y_test,y_pred))\n",
    "\n",
    "plt.plot( range(1,30), rmse_)\n",
    "plt.xlabel(\"N° Estimators\")\n",
    "plt.ylabel(\"RMSE\")\n",
    "plt.show()"
   ]
  },
  {
   "cell_type": "code",
   "execution_count": 191,
   "metadata": {},
   "outputs": [
    {
     "name": "stdout",
     "output_type": "stream",
     "text": [
      "RMSE:  0.5289575741298048\n"
     ]
    }
   ],
   "source": [
    "dt = DecisionTreeRegressor(random_state=42, max_depth = 15)\n",
    "bc = BaggingRegressor(base_estimator=dt, n_estimators=20, random_state=42)\n",
    "bc.fit(X_train, y_train)\n",
    "y_pred = bc.predict(X_test)\n",
    "r = RMSE(y_test,y_pred)\n",
    "print(\"RMSE: \",r)\n",
    "\n",
    "rmse_models[\"BaggingRegressor\"] = r"
   ]
  },
  {
   "cell_type": "markdown",
   "metadata": {},
   "source": [
    "### Simple Neural Network"
   ]
  },
  {
   "cell_type": "code",
   "execution_count": 192,
   "metadata": {},
   "outputs": [],
   "source": [
    "def RMSEK(y_true, y_pred):\n",
    "        return K.sqrt(K.mean(K.square(y_pred - y_true)))"
   ]
  },
  {
   "cell_type": "code",
   "execution_count": 193,
   "metadata": {},
   "outputs": [],
   "source": [
    "def build_model():\n",
    "    model = models.Sequential()\n",
    "    model.add(layers.Dense(128, activation='relu', input_shape=(X_train.shape[1],)))\n",
    "    model.add(layers.Dropout(rate=0.5))\n",
    "    model.add(layers.Dense(128, activation='relu'))\n",
    "    model.add(layers.Dense(64, activation='relu'))\n",
    "    model.add(layers.Dense(1))\n",
    "    model.compile(optimizer='rmsprop', loss=\"mse\", metrics=[RMSEK])\n",
    "    return model"
   ]
  },
  {
   "cell_type": "code",
   "execution_count": 194,
   "metadata": {},
   "outputs": [
    {
     "name": "stdout",
     "output_type": "stream",
     "text": [
      "Train on 10982 samples, validate on 2746 samples\n",
      "Epoch 1/30\n",
      "10982/10982 [==============================] - 1s 124us/step - loss: 0.9258 - RMSEK: 0.9304 - val_loss: 0.8788 - val_RMSEK: 0.9062\n",
      "Epoch 2/30\n",
      "10982/10982 [==============================] - 1s 86us/step - loss: 0.8940 - RMSEK: 0.9101 - val_loss: 0.8543 - val_RMSEK: 0.8907\n",
      "Epoch 3/30\n",
      "10982/10982 [==============================] - 1s 91us/step - loss: 0.8676 - RMSEK: 0.8971 - val_loss: 0.8223 - val_RMSEK: 0.8751\n",
      "Epoch 4/30\n",
      "10982/10982 [==============================] - 1s 94us/step - loss: 0.8434 - RMSEK: 0.8891 - val_loss: 0.7859 - val_RMSEK: 0.8579\n",
      "Epoch 5/30\n",
      "10982/10982 [==============================] - 1s 89us/step - loss: 0.8211 - RMSEK: 0.8746 - val_loss: 0.7674 - val_RMSEK: 0.8494\n",
      "Epoch 6/30\n",
      "10982/10982 [==============================] - 1s 102us/step - loss: 0.8053 - RMSEK: 0.8651 - val_loss: 0.7454 - val_RMSEK: 0.8354\n",
      "Epoch 7/30\n",
      "10982/10982 [==============================] - 1s 91us/step - loss: 0.7865 - RMSEK: 0.8568 - val_loss: 0.7462 - val_RMSEK: 0.8340\n",
      "Epoch 8/30\n",
      "10982/10982 [==============================] - 1s 91us/step - loss: 0.7798 - RMSEK: 0.8542 - val_loss: 0.7189 - val_RMSEK: 0.8239\n",
      "Epoch 9/30\n",
      "10982/10982 [==============================] - 1s 101us/step - loss: 0.7665 - RMSEK: 0.8468 - val_loss: 0.7120 - val_RMSEK: 0.8201\n",
      "Epoch 10/30\n",
      "10982/10982 [==============================] - 1s 92us/step - loss: 0.7575 - RMSEK: 0.8455 - val_loss: 0.7150 - val_RMSEK: 0.8247\n",
      "Epoch 11/30\n",
      "10982/10982 [==============================] - 1s 93us/step - loss: 0.7544 - RMSEK: 0.8438 - val_loss: 0.7313 - val_RMSEK: 0.8259\n",
      "Epoch 12/30\n",
      "10982/10982 [==============================] - 1s 85us/step - loss: 0.7503 - RMSEK: 0.8365 - val_loss: 0.6989 - val_RMSEK: 0.8112\n",
      "Epoch 13/30\n",
      "10982/10982 [==============================] - 1s 85us/step - loss: 0.7467 - RMSEK: 0.8383 - val_loss: 0.6918 - val_RMSEK: 0.8061\n",
      "Epoch 14/30\n",
      "10982/10982 [==============================] - 1s 87us/step - loss: 0.7360 - RMSEK: 0.8289 - val_loss: 0.6962 - val_RMSEK: 0.8091\n",
      "Epoch 15/30\n",
      "10982/10982 [==============================] - 1s 86us/step - loss: 0.7357 - RMSEK: 0.8287 - val_loss: 0.7152 - val_RMSEK: 0.8161\n",
      "Epoch 16/30\n",
      "10982/10982 [==============================] - 1s 104us/step - loss: 0.7243 - RMSEK: 0.8229 - val_loss: 0.7364 - val_RMSEK: 0.8282\n",
      "Epoch 17/30\n",
      "10982/10982 [==============================] - 1s 90us/step - loss: 0.7405 - RMSEK: 0.8334 - val_loss: 0.7062 - val_RMSEK: 0.8133\n",
      "Epoch 18/30\n",
      "10982/10982 [==============================] - 1s 100us/step - loss: 0.7296 - RMSEK: 0.8268 - val_loss: 0.6881 - val_RMSEK: 0.8059\n",
      "Epoch 19/30\n",
      "10982/10982 [==============================] - 1s 95us/step - loss: 0.7297 - RMSEK: 0.8261 - val_loss: 0.7076 - val_RMSEK: 0.8116\n",
      "Epoch 20/30\n",
      "10982/10982 [==============================] - 1s 97us/step - loss: 0.7338 - RMSEK: 0.8272 - val_loss: 0.6983 - val_RMSEK: 0.8121\n",
      "Epoch 21/30\n",
      "10982/10982 [==============================] - 1s 93us/step - loss: 0.7198 - RMSEK: 0.8242 - val_loss: 0.6823 - val_RMSEK: 0.8012\n",
      "Epoch 22/30\n",
      "10982/10982 [==============================] - 1s 88us/step - loss: 0.7290 - RMSEK: 0.8306 - val_loss: 0.7168 - val_RMSEK: 0.8206\n",
      "Epoch 23/30\n",
      "10982/10982 [==============================] - 1s 109us/step - loss: 0.7223 - RMSEK: 0.8235 - val_loss: 0.6970 - val_RMSEK: 0.8139\n",
      "Epoch 24/30\n",
      "10982/10982 [==============================] - 1s 94us/step - loss: 0.7101 - RMSEK: 0.8168 - val_loss: 0.6832 - val_RMSEK: 0.8029\n",
      "Epoch 25/30\n",
      "10982/10982 [==============================] - 1s 88us/step - loss: 0.7265 - RMSEK: 0.8236 - val_loss: 0.6994 - val_RMSEK: 0.8102\n",
      "Epoch 26/30\n",
      "10982/10982 [==============================] - 1s 93us/step - loss: 0.7224 - RMSEK: 0.8231 - val_loss: 0.6992 - val_RMSEK: 0.8151\n",
      "Epoch 27/30\n",
      "10982/10982 [==============================] - 1s 85us/step - loss: 0.7188 - RMSEK: 0.8218 - val_loss: 0.7062 - val_RMSEK: 0.8120\n",
      "Epoch 28/30\n",
      "10982/10982 [==============================] - 1s 86us/step - loss: 0.7166 - RMSEK: 0.8189 - val_loss: 0.6713 - val_RMSEK: 0.7967\n",
      "Epoch 29/30\n",
      "10982/10982 [==============================] - 1s 86us/step - loss: 0.7091 - RMSEK: 0.8150 - val_loss: 0.6797 - val_RMSEK: 0.8008\n",
      "Epoch 30/30\n",
      "10982/10982 [==============================] - 1s 84us/step - loss: 0.7145 - RMSEK: 0.8212 - val_loss: 0.6906 - val_RMSEK: 0.8046\n",
      "3433/3433 [==============================] - 0s 41us/step\n"
     ]
    }
   ],
   "source": [
    "model = build_model()\n",
    "history = model.fit(X_train, y_train,epochs=30, validation_split=0.2)\n",
    "rmse_score = model.evaluate(X_test, y_test)[0]"
   ]
  },
  {
   "cell_type": "code",
   "execution_count": 195,
   "metadata": {},
   "outputs": [
    {
     "data": {
      "image/png": "[encoded data removed]",
      "text/plain": [
       "<Figure size 576x360 with 1 Axes>"
      ]
     },
     "metadata": {
      "needs_background": "light"
     },
     "output_type": "display_data"
    }
   ],
   "source": [
    "pd.DataFrame(history.history).plot(figsize=(8,5))\n",
    "plt.xlabel(\"Epoch\")\n",
    "plt.ylabel(\"Loss\")\n",
    "plt.show()"
   ]
  },
  {
   "cell_type": "code",
   "execution_count": 196,
   "metadata": {},
   "outputs": [
    {
     "name": "stdout",
     "output_type": "stream",
     "text": [
      "RMSE:  0.6913073301063555\n"
     ]
    }
   ],
   "source": [
    "r = rmse_score\n",
    "print(\"RMSE: \",r)\n",
    "\n",
    "rmse_models[\"SimpleNeuralNetwork\"] = r"
   ]
  },
  {
   "cell_type": "markdown",
   "metadata": {},
   "source": [
    "### XGBRegressor"
   ]
  },
  {
   "cell_type": "code",
   "execution_count": 200,
   "metadata": {},
   "outputs": [],
   "source": [
    "xg_reg = xgb.XGBRegressor(objective ='reg:squarederror', colsample_bytree = 0.1, \n",
    "                          learning_rate = 0.2, max_depth = 15, n_estimators = 20)"
   ]
  },
  {
   "cell_type": "code",
   "execution_count": 201,
   "metadata": {},
   "outputs": [],
   "source": [
    "xg_reg.fit(X_train,y_train)\n",
    "\n",
    "y_pred = xg_reg.predict(X_test)"
   ]
  },
  {
   "cell_type": "code",
   "execution_count": 202,
   "metadata": {},
   "outputs": [
    {
     "name": "stdout",
     "output_type": "stream",
     "text": [
      "RMSE:  0.7663501895387628\n"
     ]
    }
   ],
   "source": [
    "r = RMSE(y_test,y_pred)\n",
    "print(\"RMSE: \",r)\n",
    "\n",
    "rmse_models[\"XGBRegressor\"] = r"
   ]
  },
  {
   "cell_type": "code",
   "execution_count": 211,
   "metadata": {},
   "outputs": [
    {
     "data": {
      "text/plain": [
       "dict_values([0.5289575741298048, 0.6913073301063555, 0.7663501895387628])"
      ]
     },
     "execution_count": 211,
     "metadata": {},
     "output_type": "execute_result"
    }
   ],
   "source": [
    "rmse_models.values()"
   ]
  },
  {
   "cell_type": "markdown",
   "metadata": {},
   "source": [
    "## Comparação entre os modelos"
   ]
  },
  {
   "cell_type": "code",
   "execution_count": 228,
   "metadata": {},
   "outputs": [
    {
     "data": {
      "image/png": "[encoded data removed]",
      "text/plain": [
       "<Figure size 432x288 with 1 Axes>"
      ]
     },
     "metadata": {
      "needs_background": "light"
     },
     "output_type": "display_data"
    }
   ],
   "source": [
    "plt.bar(rmse_models.keys(),rmse_models.values(), color=['blue', 'yellow', 'green'], edgecolor='black')\n",
    "plt.ylabel(\"RMSE\",color=\"red\")\n",
    "plt.xlabel(\"Model\",color=\"red\")\n",
    "plt.grid(True)\n",
    "plt.show()"
   ]
  }
 ],
 "metadata": {
  "kernelspec": {
   "display_name": "Python 3",
   "language": "python",
   "name": "python3"
  },
  "language_info": {
   "codemirror_mode": {
    "name": "ipython",
    "version": 3
   },
   "file_extension": ".py",
   "mimetype": "text/x-python",
   "name": "python",
   "nbconvert_exporter": "python",
   "pygments_lexer": "ipython3",
   "version": "3.7.4"
  }
 },
 "nbformat": 4,
 "nbformat_minor": 2
}
